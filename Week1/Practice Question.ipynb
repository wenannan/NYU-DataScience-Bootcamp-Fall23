{
 "cells": [
  {
   "cell_type": "code",
   "execution_count": 1,
   "id": "280c57f3-7187-4ea1-8761-cd8935be10af",
   "metadata": {},
   "outputs": [],
   "source": [
    "#Question 1"
   ]
  },
  {
   "cell_type": "code",
   "execution_count": 2,
   "id": "1168a994-bbb5-47d3-b09a-1faf016a6806",
   "metadata": {},
   "outputs": [
    {
     "name": "stdout",
     "output_type": "stream",
     "text": [
      "[0, 1, 1, 2, 3, 5, 8, 13, 21, 34]\n"
     ]
    }
   ],
   "source": [
    "def fibonacci_series(n):\n",
    "    fib_series = []\n",
    "    a, b = 0, 1\n",
    "    for _ in range(n):\n",
    "        fib_series.append(a)\n",
    "        a, b = b, a + b\n",
    "    return fib_series\n",
    "\n",
    "# Getting the first 10 terms\n",
    "first_10_terms = fibonacci_series(10)\n",
    "print(first_10_terms)"
   ]
  },
  {
   "cell_type": "code",
   "execution_count": 3,
   "id": "6daca8fb-0d7a-41fc-9bb8-fd0e8c7ba061",
   "metadata": {},
   "outputs": [],
   "source": [
    "#Question 2"
   ]
  },
  {
   "cell_type": "code",
   "execution_count": 17,
   "id": "ba5f3304-bd05-4d76-b53f-faf7b33a512c",
   "metadata": {},
   "outputs": [
    {
     "name": "stdout",
     "output_type": "stream",
     "text": [
      "[1, 3, 5, 7, 9]\n"
     ]
    }
   ],
   "source": [
    "def extract_odd_indices_numbers(input_list):\n",
    "    return input_list[1::2]\n",
    "\n",
    "# Sample list for demonstration\n",
    "sample_list = [0, 1, 2, 3, 4, 5, 6, 7, 8, 9]\n",
    "\n",
    "# Extracting numbers at odd indices\n",
    "odd_numbers = extract_odd_indices_numbers(sample_list)\n",
    "print(odd_numbers)"
   ]
  },
  {
   "cell_type": "code",
   "execution_count": 5,
   "id": "e4f8c03a-1c52-4cf0-a689-e921f648fd3a",
   "metadata": {},
   "outputs": [],
   "source": [
    "#Question 3"
   ]
  },
  {
   "cell_type": "code",
   "execution_count": 6,
   "id": "a36c09e5-41ea-4087-92bc-55aa67058d2b",
   "metadata": {},
   "outputs": [
    {
     "name": "stdout",
     "output_type": "stream",
     "text": [
      "[50, 40, 30, 20, 10]\n"
     ]
    }
   ],
   "source": [
    "def reverse_list(input_list):\n",
    "    return input_list[::-1]\n",
    "\n",
    "# Sample list for demonstration\n",
    "sample_list = [10, 20, 30, 40, 50]\n",
    "\n",
    "# Reversing the list\n",
    "reversed_list = reverse_list(sample_list)\n",
    "print(reversed_list)"
   ]
  },
  {
   "cell_type": "code",
   "execution_count": 7,
   "id": "4688b408-ad63-4042-afa5-d382931017e0",
   "metadata": {},
   "outputs": [],
   "source": [
    "#Question 4"
   ]
  },
  {
   "cell_type": "code",
   "execution_count": 18,
   "id": "5584c4e6-d035-4d95-add5-9a4b91051cc3",
   "metadata": {},
   "outputs": [
    {
     "name": "stdout",
     "output_type": "stream",
     "text": [
      "47\n"
     ]
    }
   ],
   "source": [
    "# Given string\n",
    "text_string = \"\"\"\n",
    "ChatGPT has created this text to provide tips on creating interesting paragraphs. \n",
    "First, start with a clear topic sentence that introduces the main idea. \n",
    "Then, support the topic sentence with specific details, examples, and evidence.\n",
    "Vary the sentence length and structure to keep the reader engaged.\n",
    "Finally, end with a strong concluding sentence that summarizes the main points.\n",
    "Remember, practice makes perfect!\n",
    "\"\"\"\n",
    "\n",
    "# Counting the number of different words\n",
    "words = text_string.lower().split()\n",
    "unique_words_count = len(set(words))\n",
    "print(unique_words_count)"
   ]
  },
  {
   "cell_type": "code",
   "execution_count": 9,
   "id": "52a21d1f-746c-49a5-a20d-77aa257161a0",
   "metadata": {},
   "outputs": [],
   "source": [
    "#Question 5"
   ]
  },
  {
   "cell_type": "code",
   "execution_count": 10,
   "id": "bcb299d2-f89e-4be1-a645-a3e8b979199f",
   "metadata": {},
   "outputs": [
    {
     "name": "stdout",
     "output_type": "stream",
     "text": [
      "3\n"
     ]
    }
   ],
   "source": [
    "def count_vowels(word):\n",
    "    # List of vowels\n",
    "    vowels = \"aeiouAEIOU\"\n",
    "    \n",
    "    # Counting the number of vowels in the word\n",
    "    count = sum(1 for char in word if char in vowels)\n",
    "    \n",
    "    return count\n",
    "\n",
    "# Count the number of vowels in the word \"abandon\"\n",
    "word = \"abandon\"\n",
    "vowel_count_in_abandon = count_vowels(word)\n",
    "print(vowel_count_in_abandon)"
   ]
  },
  {
   "cell_type": "code",
   "execution_count": 11,
   "id": "cd9046cc-4725-4317-b2b4-b13ec46afced",
   "metadata": {},
   "outputs": [],
   "source": [
    "#Question 6"
   ]
  },
  {
   "cell_type": "code",
   "execution_count": 19,
   "id": "808d934b-eb02-4ae0-be14-c3ad62663f98",
   "metadata": {},
   "outputs": [
    {
     "name": "stdout",
     "output_type": "stream",
     "text": [
      "TIGER\n",
      "ELEPHANT\n",
      "MONKEY\n",
      "ZEBRA\n",
      "PANTHER\n"
     ]
    }
   ],
   "source": [
    "animals = ['tiger', 'elephant', 'monkey', 'zebra', 'panther']\n",
    "\n",
    "for animal in animals:\n",
    "    print(animal.upper())"
   ]
  },
  {
   "cell_type": "code",
   "execution_count": 20,
   "id": "d47f6d3f-469e-474b-bf25-207edd026b1b",
   "metadata": {},
   "outputs": [],
   "source": [
    "#Question 7"
   ]
  },
  {
   "cell_type": "code",
   "execution_count": 21,
   "id": "6f0e01cf-0c0b-47c9-a07b-18d27ab4fe4c",
   "metadata": {},
   "outputs": [
    {
     "name": "stdout",
     "output_type": "stream",
     "text": [
      "1 is odd\n",
      "2 is even\n",
      "3 is odd\n",
      "4 is even\n",
      "5 is odd\n",
      "6 is even\n",
      "7 is odd\n",
      "8 is even\n",
      "9 is odd\n",
      "10 is even\n",
      "11 is odd\n",
      "12 is even\n",
      "13 is odd\n",
      "14 is even\n",
      "15 is odd\n"
     ]
    }
   ],
   "source": [
    "for num in range(1, 16):\n",
    "    if num % 2 == 0:\n",
    "        print(f\"{num} is even\")\n",
    "    else:\n",
    "        print(f\"{num} is odd\")"
   ]
  },
  {
   "cell_type": "code",
   "execution_count": 22,
   "id": "ee438003-6b9c-4d22-af9f-3a431f6d2385",
   "metadata": {},
   "outputs": [],
   "source": [
    "#Question 8"
   ]
  },
  {
   "cell_type": "code",
   "execution_count": 23,
   "id": "ab0bdf1d-8ec9-4aed-b6d3-a35e42169653",
   "metadata": {},
   "outputs": [
    {
     "name": "stdout",
     "output_type": "stream",
     "text": [
      "36\n"
     ]
    }
   ],
   "source": [
    "def add_two_integers(num1, num2):\n",
    "    return num1 + num2\n",
    "\n",
    "# Given values for num1 and num2\n",
    "num1 = 12\n",
    "num2 = 24\n",
    "\n",
    "# Calculating the sum\n",
    "result = add_two_integers(num1, num2)\n",
    "print(result)"
   ]
  },
  {
   "cell_type": "code",
   "execution_count": null,
   "id": "151a3714-e49f-4821-bd85-c80c5c7ef9ef",
   "metadata": {},
   "outputs": [],
   "source": []
  }
 ],
 "metadata": {
  "kernelspec": {
   "display_name": "Python 3 (ipykernel)",
   "language": "python",
   "name": "python3"
  },
  "language_info": {
   "codemirror_mode": {
    "name": "ipython",
    "version": 3
   },
   "file_extension": ".py",
   "mimetype": "text/x-python",
   "name": "python",
   "nbconvert_exporter": "python",
   "pygments_lexer": "ipython3",
   "version": "3.9.13"
  }
 },
 "nbformat": 4,
 "nbformat_minor": 5
}
